{
  "nbformat": 4,
  "nbformat_minor": 0,
  "metadata": {
    "colab": {
      "provenance": [],
      "private_outputs": true,
      "include_colab_link": true
    },
    "kernelspec": {
      "name": "python3",
      "display_name": "Python 3"
    },
    "language_info": {
      "name": "python"
    },
    "gpuClass": "standard",
    "accelerator": "GPU"
  },
  "cells": [
    {
      "cell_type": "markdown",
      "metadata": {
        "id": "view-in-github",
        "colab_type": "text"
      },
      "source": [
        "<a href=\"https://colab.research.google.com/github/imamurayusuke/SD1111_colab/blob/main/SD1111_colab.ipynb\" target=\"_parent\"><img src=\"https://colab.research.google.com/assets/colab-badge.svg\" alt=\"Open In Colab\"/></a>"
      ]
    },
    {
      "cell_type": "markdown",
      "source": [
        "**2023年4月21日以降、無料プランのGoogle ColaboratoryでSD/WebUIの実行が禁止になりました。Colab ProやPro＋の有料プランならば使えるとのことですが、下のスクリプトはGoogle Colaboratoryのライブラリ更新と思われる影響で現在動作しません。申し訳ありません。代替の実行環境があるか調査します。（今村勇輔）**\n",
        "\n",
        "経緯をまとめて代替になりそうなサービスを紹介する記事を書きました。\n",
        "\n",
        "[Google Colabの無料プランでStable Diffusionを使えなくなったらModalへ行こう?](https://ima.hatenablog.jp/entry/2023/04/22/163000)"
      ],
      "metadata": {
        "id": "RJrPXmm-8XIi"
      }
    },
    {
      "cell_type": "code",
      "execution_count": null,
      "metadata": {
        "id": "tAziMMeXJjQv",
        "cellView": "form"
      },
      "outputs": [],
      "source": [
        "#@title ⬇［SD/WebUIの起動／停止］この下の再生ボタンをクリックするとSD/WebUIが起動／停止します\n",
        "\n",
        "# @markdown > Running on local URL:  [http&#58;//127.0.0.1:7860](http://)<br>\n",
        "# @markdown > Running on public URL: [https&#58;//xxxxxxxx-xxxx-xxxx.gradio.live](http://) ←これが出たらクリック\n",
        "\n",
        "# @markdown 再生ボタンをクリックして7分～10分程度でこの表示が出ます。2行あるリンクのうち、下の行のリンクをクリックするとWebUIが開きます。\n",
        "\n",
        "import os\n",
        "\n",
        "# RAMとVRAMの容量取得(GiB)\n",
        "res = !free -m | grep 'Mem:' | awk '{print $2}'\n",
        "if not res:\n",
        "   raise ValueError(\"RAM容量を取得できません\")\n",
        "ram = round(float(res[0]) / 1024, 3)\n",
        "res = !nvidia-smi --query-gpu=memory.total --format=csv,noheader,nounits\n",
        "if not res:\n",
        "   raise ValueError(\"VRAM容量を取得できません。GPUに接続していない可能性があります。「編集」メニューの「ノートブックの設定」で「ハードウェアアクセラレータ」を「GPU」に変更してください。\")\n",
        "vram = round(float(res[0]) / 1024, 3)\n",
        "print(f\"RAM : {ram}\")\n",
        "print(f\"VRAM: {vram}\")\n",
        "del res\n",
        "\n",
        "# Google Driveのマウント\n",
        "from google.colab import drive\n",
        "drive.mount('/content/drive')\n",
        "\n",
        "!apt -y update -qq\n",
        "!wget http://launchpadlibrarian.net/367274644/libgoogle-perftools-dev_2.5-2.2ubuntu3_amd64.deb\n",
        "!wget https://launchpad.net/ubuntu/+source/google-perftools/2.5-2.2ubuntu3/+build/14795286/+files/google-perftools_2.5-2.2ubuntu3_all.deb\n",
        "!wget https://launchpad.net/ubuntu/+source/google-perftools/2.5-2.2ubuntu3/+build/14795286/+files/libtcmalloc-minimal4_2.5-2.2ubuntu3_amd64.deb\n",
        "!wget https://launchpad.net/ubuntu/+source/google-perftools/2.5-2.2ubuntu3/+build/14795286/+files/libgoogle-perftools4_2.5-2.2ubuntu3_amd64.deb\n",
        "!apt install -qq libunwind8-dev\n",
        "!dpkg -i *.deb\n",
        "%env LD_PRELOAD=libtcmalloc.so\n",
        "!rm *.deb\n",
        "\n",
        "!pip install torch==1.13.1+cu116 torchvision==0.14.1+cu116 torchaudio==0.13.1 --extra-index-url https://download.pytorch.org/whl/cu116 -U\n",
        "!apt -y install -qq aria2\n",
        "!pip install -q xformers==0.0.16\n",
        "!pip install -q triton==2.0.0\n",
        "\n",
        "# SD/WebUIのセットアップ\n",
        "%cd /content/\n",
        "!git clone https://github.com/AUTOMATIC1111/stable-diffusion-webui.git\n",
        "%cd stable-diffusion-webui/models/Stable-diffusion\n",
        "\n",
        "# 公式学習モデルのダウンロード\n",
        "!wget -c \"https://huggingface.co/stabilityai/stable-diffusion-2-1/resolve/main/v2-1_768-ema-pruned.safetensors\" -O /content/stable-diffusion-webui/models/Stable-diffusion/v2-1_768-ema-pruned.safetensors\n",
        "!wget -c \"https://huggingface.co/stabilityai/sd-vae-ft-mse-original/resolve/main/vae-ft-mse-840000-ema-pruned.ckpt\" -O /content/stable-diffusion-webui/models/Stable-diffusion/v2-1_768-ema-pruned.vae.pt\n",
        "!wget -c \"https://raw.githubusercontent.com/Stability-AI/stablediffusion/main/configs/stable-diffusion/v2-inference-v.yaml\" -O /content/stable-diffusion-webui/models/Stable-diffusion/v2-1_768-ema-pruned.yaml\n",
        "\n",
        "# でりだモデルのダウンロード\n",
        "!wget -c \"https://huggingface.co/naclbit/trinart_derrida_characters_v2_stable_diffusion/resolve/main/derrida_final.ckpt\" -O /content/stable-diffusion-webui/models/Stable-diffusion/derrida_final.ckpt\n",
        "!wget -c \"https://huggingface.co/naclbit/trinart_derrida_characters_v2_stable_diffusion/resolve/main/autoencoder_fix_kl-f8-trinart_characters.ckpt\" -O /content/stable-diffusion-webui/models/Stable-diffusion/derrida_final.vae.pt\n",
        "\n",
        "# Googleドライブ上の設定ファイルをバックアップしランタイム上へシンボリックリンク（styles.csvは初回起動時に外部からコピーする）\n",
        "sdpath     = \"/content/drive/MyDrive/Colab Notebooks/Stable Diffusion/\"\n",
        "configpath = sdpath + \"config.json\"\n",
        "uicfgpath  = sdpath + \"ui-config.json\"\n",
        "stylespath = sdpath + \"styles.csv\"\n",
        "\n",
        "if os.path.isfile(configpath):\n",
        "   !cp -v \"{configpath}\" \"{sdpath}config_bak.json\"\n",
        "   !ln -s -v \"{configpath}\" \"/content/stable-diffusion-webui/config.json\"\n",
        "if os.path.isfile(uicfgpath):\n",
        "   !cp -v \"{uicfgpath}\" \"{sdpath}ui-config_bak.json\"\n",
        "   !ln -s -v \"{uicfgpath}\" \"/content/stable-diffusion-webui/ui-config.json\"\n",
        "if os.path.isfile(stylespath):\n",
        "   !cp -v \"{stylespath}\" \"{sdpath}styles_bak.csv\"\n",
        "else:\n",
        "   !wget -c \"https://raw.githubusercontent.com/imamurayusuke/SD1111_colab/main/styles.csv\" -O \"{sdpath}styles.csv\"\n",
        "!ln -s -v \"{stylespath}\" \"/content/stable-diffusion-webui/styles.csv\"\n",
        "\n",
        "# Googleドライブ上に画像の出力先フォルダを作成（初回のみ）、ランタイム上からそこへシンボリックリンク\n",
        "outputspath = sdpath + \"outputs\"\n",
        "logpath     = sdpath + \"log\"\n",
        "\n",
        "if not os.path.exists(outputspath):\n",
        "   !mkdir -p -v \"{outputspath}\"\n",
        "!ln -s -v \"{outputspath}\" \"/content/stable-diffusion-webui/outputs\"\n",
        "\n",
        "if not os.path.exists(logpath):\n",
        "   !mkdir -p -v \"{logpath}\"\n",
        "!ln -s -v \"{logpath}\" \"/content/stable-diffusion-webui/log\"\n",
        "\n",
        "# ランタイム上のExtensionsフォルダにあるput extensions here.txtをGoogleドライブにコピー（初回のみ）\n",
        "extpath     = sdpath + \"extensions\"\n",
        "\n",
        "if not os.path.exists(extpath):\n",
        "   !mv -v \"/content/stable-diffusion-webui/extensions\" \"{sdpath}\"\n",
        "else:\n",
        "   !mv -v \"/content/stable-diffusion-webui/extensions\" \"/content/stable-diffusion-webui/extensions_org\"\n",
        "\n",
        "#Extensionsフォルダへランタイム上からシンボリックリンク\n",
        "!ln -s -v \"{extpath}\" \"/content/stable-diffusion-webui/\"\n",
        "\n",
        "# ランタイム上のembeddingsフォルダにあるput extensions here.txtをGoogleドライブにコピー（初回のみ）\n",
        "embedpath   = sdpath + \"embeddings\"\n",
        "\n",
        "if not os.path.exists(embedpath):\n",
        "   !mv -v \"/content/stable-diffusion-webui/embeddings\" \"{sdpath}\"\n",
        "else:\n",
        "   !mv -v \"/content/stable-diffusion-webui/embeddings\" \"/content/stable-diffusion-webui/embeddings_org\"\n",
        "\n",
        "#embeddingsフォルダへランタイム上からシンボリックリンク\n",
        "!ln -s -v \"{embedpath}\" \"/content/stable-diffusion-webui/\"\n",
        "\n",
        "# 必ず利用するエクステンションをダウンロード（初回のみ）\n",
        "if not os.path.exists(extpath + \"/stable-diffusion-webui-localization-ja_JP\"):\n",
        "   !git clone https://github.com/Katsuyuki-Karasawa/stable-diffusion-webui-localization-ja_JP /content/stable-diffusion-webui/extensions/stable-diffusion-webui-localization-ja_JP\n",
        "else:\n",
        "   %cd /content/stable-diffusion-webui/extensions/stable-diffusion-webui-localization-ja_JP\n",
        "   !git pull\n",
        "   %cd /content/stable-diffusion-webui/models/Stable-diffusion\n",
        "\n",
        "#日本語化拡張機能に変更があったとき、続くメッセージがすべて赤字になるのを抑止\n",
        "print('\\033[0m')\n",
        "\n",
        "!sed -i -e '''/    prepare_environment()/a\\    os.system\\(f\\\"\"\"sed -i -e ''\\\"s/dict()))/dict())).cuda()/g\\\"'' /content/stable-diffusion-webui/repositories/stable-diffusion-stability-ai/ldm/util.py\"\"\")''' /content/stable-diffusion-webui/launch.py\n",
        "!sed -i -e 's/fastapi==0.90.1/fastapi==0.89.1/g' /content/stable-diffusion-webui/requirements_versions.txt\n",
        "\n",
        "# SD/WebUIの起動\n",
        "%cd /content/stable-diffusion-webui/\n",
        "!python launch.py --share --xformers --enable-insecure-extension-access --gradio-queue --ckpt /content/stable-diffusion-webui/models/Stable-diffusion/v2-1_768-ema-pruned.safetensors\n"
      ]
    },
    {
      "cell_type": "code",
      "source": [
        "#@title ⬇［設定のバックアップ］SD/WebUIを停止した後に実行してください\n",
        "\n",
        "# @markdown 以下のファイルがGoogleドライブにバックアップされます。\n",
        "\n",
        "# @markdown * 初回起動時に生成される設定ファイル（ui-config.json）\n",
        "\n",
        "# @markdown * Settingsタブの「Apply settings」を初めてクリックしたときに生成される設定ファイル（config.json）\n",
        "\n",
        "# @markdown 一度バックアップされれば、以降はSD/WebUIが起動時にGoogleドライブ上の設定ファイルを読み出し、設定を変更すればGoogleドライブ上の設定ファイルも更新されます。\n",
        "\n",
        "# @markdown バックアップ先は「Colab Notebooks」－「Stable Diffusion」フォルダです。\n",
        "\n",
        "# @markdown 実行後のメッセージの末尾が2行とも「～ are the same file」と出るようになれば、すべてGoogleドライブに保存されています。そうなれば、次回以降このコードセルを実行する必要はなくなります。\n",
        "!cp -v \"/content/stable-diffusion-webui/config.json\" \"/content/drive/MyDrive/Colab Notebooks/Stable Diffusion\"\n",
        "!cp -v \"/content/stable-diffusion-webui/ui-config.json\" \"/content/drive/MyDrive/Colab Notebooks/Stable Diffusion\""
      ],
      "metadata": {
        "id": "TGs8ElwZrQfO",
        "cellView": "form"
      },
      "execution_count": null,
      "outputs": []
    },
    {
      "cell_type": "code",
      "source": [
        "#@title ⬇［再起動］SD/WebUIの再起動用コードセル\n",
        "\n",
        "#@markdown いったん起動してから停止したSD/WebUIを再起動するときに使います。ダウンロードやインストールを省略できるため約1分で起動します。\n",
        "\n",
        "%cd /content/stable-diffusion-webui/\n",
        "!python launch.py --share --xformers --enable-insecure-extension-access --gradio-queue --ckpt /content/stable-diffusion-webui/models/Stable-diffusion/v2-1_768-ema-pruned.safetensors"
      ],
      "metadata": {
        "id": "BSxcoNlP9MS_",
        "cellView": "form"
      },
      "execution_count": null,
      "outputs": []
    },
    {
      "cell_type": "markdown",
      "source": [
        "## このノートブックについて\n",
        "- このノートブックの詳細は[imamurayusuke/SD1111\\_colab \\- GitHub](https://github.com/imamurayusuke/SD1111_colab)をご覧ください\n",
        "- 作成にあたっては以下を参考にさせていただきました\n",
        " - [camenduru/stable\\-diffusion\\-webui\\-colab: stable diffusion webui colab](https://github.com/camenduru/stable-diffusion-webui-colab)\n",
        " - [aka\\_1111\\.ipynb \\- Colaboratory](https://colab.research.google.com/drive/1GhvterZebPlZU4P7RcUK-U-4Y23rZpQO)\n",
        "\n",
        "### 大ざっぱな更新履歴\n",
        "\n",
        "- 2023/3/26：起動しなくなり修正。起動後のエラーは相変わらずです\n",
        "- 2023/3/19：起動しなくなり修正。SD/WebUIが起動してリンクをクリックした際にエラーが出るのが解消できていませんが、使用に問題はないものと思われるところまで直せました。引き続き時間を見つけてエラーへの対処を行っていきます"
      ],
      "metadata": {
        "id": "w-g8GSEuNEKZ"
      }
    }
  ]
}